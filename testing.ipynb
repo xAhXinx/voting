{
 "cells": [
  {
   "cell_type": "code",
   "execution_count": 16,
   "id": "a8b979e0",
   "metadata": {},
   "outputs": [],
   "source": [
    "import streamlit as st\n",
    "import pandas as pd\n",
    "import os"
   ]
  },
  {
   "cell_type": "code",
   "execution_count": 4,
   "id": "51aa5c3e",
   "metadata": {},
   "outputs": [],
   "source": [
    "FILE_PATH = \"votes.csv\"\n",
    "\n",
    "# 初始化文件\n",
    "if not os.path.exists(FILE_PATH):\n",
    "    with open(FILE_PATH, \"w\") as f:\n",
    "        f.write(\"user_id,choice\\n\")"
   ]
  },
  {
   "cell_type": "code",
   "execution_count": 33,
   "id": "32fe39b6",
   "metadata": {},
   "outputs": [],
   "source": [
    "# 读取CSV为DataFrame\n",
    "def load_votes():\n",
    "    return pd.read_csv(FILE_PATH)\n",
    "\n",
    "# 更新或插入投票\n",
    "def submit_vote(user_id, choice):\n",
    "    df = load_votes()\n",
    "    if user_id in df['user_id'].values:\n",
    "        df.loc[df['user_id'] == user_id, 'choice'] = choice\n",
    "        print(df)\n",
    "    else:\n",
    "        new_row = pd.DataFrame([{'user_id': user_id, 'choice': choice}])\n",
    "        df = pd.concat([df, new_row], ignore_index=True)\n",
    "        print(df)\n",
    "    df.to_csv(FILE_PATH, index=False)"
   ]
  },
  {
   "cell_type": "code",
   "execution_count": 38,
   "id": "e97ea01c",
   "metadata": {},
   "outputs": [
    {
     "name": "stdout",
     "output_type": "stream",
     "text": [
      "   user_id choice\n",
      "0        1      A\n",
      "1        1      A\n"
     ]
    }
   ],
   "source": [
    "submit_vote(1, \"A\")"
   ]
  },
  {
   "cell_type": "code",
   "execution_count": null,
   "id": "dc4208e4",
   "metadata": {},
   "outputs": [
    {
     "name": "stdout",
     "output_type": "stream",
     "text": [
      "   user_id choice\n",
      "0        1      B\n",
      "choice\n",
      "B    1\n",
      "Name: count, dtype: int64\n"
     ]
    }
   ],
   "source": [
    "df = load_votes()\n",
    "print(df)\n",
    "if df.empty:\n",
    "    st.info(\"暂无投票\")\n",
    "else:\n",
    "    vote_counts = df['choice'].value_counts()\n",
    "    print(vote_counts)"
   ]
  }
 ],
 "metadata": {
  "kernelspec": {
   "display_name": "voting-env",
   "language": "python",
   "name": "python3"
  },
  "language_info": {
   "codemirror_mode": {
    "name": "ipython",
    "version": 3
   },
   "file_extension": ".py",
   "mimetype": "text/x-python",
   "name": "python",
   "nbconvert_exporter": "python",
   "pygments_lexer": "ipython3",
   "version": "3.11.13"
  }
 },
 "nbformat": 4,
 "nbformat_minor": 5
}
